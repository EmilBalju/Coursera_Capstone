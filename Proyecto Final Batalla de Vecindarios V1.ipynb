{
 "cells": [
  {
   "cell_type": "markdown",
   "metadata": {},
   "source": [
    "# Proyecto Final Batalla de Vecindarios"
   ]
  },
  {
   "cell_type": "markdown",
   "metadata": {},
   "source": [
    "# Tabla de Contenido\n",
    "\n",
    "- Descripción del problema\n",
    "- Antecedentes\n",
    "- Descripción de los datos"
   ]
  },
  {
   "cell_type": "markdown",
   "metadata": {},
   "source": [
    "\n",
    "\n",
    "## Descripción del problema"
   ]
  },
  {
   "cell_type": "markdown",
   "metadata": {},
   "source": [
    "En los últimos años la ciudad de Mérida ha tenido un crecimiento exponencial en el número de habitantes. Los principales factores o motivos por lo que las personas de distintos estados deciden inmigrar a Mérida es por el tema de seguridad y los niveles bajos de violencia; así como el incremento en la inversión privada y extranjera que esta llegando a la ciudad, por lo que la oferta de trabajo es alta en comparación a otras ciudades. Eso ha ocasionado que haya un crecimiento en la demanda de unidades habitacionales.\n",
    "\n",
    "Por lo que muchas personas buscan el mejor lugar para residir en la ciudad, que cuente con servicios, con parques, escuelas, etc. Cerca de su residencia, por lo que con apoyo de algunos datos extraídos de la web y de la API de Foursquuare realizaremos un análisis de cluster, para poder determinar cuales son los mejores colonias/fraccionamientos para habitar en Mérida si eres una persona de otra región."
   ]
  },
  {
   "cell_type": "markdown",
   "metadata": {},
   "source": [
    "## Antecedentes\n",
    "\n",
    "De acuerdo al censo del 2020 la ciudad de Mérida ocupa el puesto #11 entre las zonas metropolitanas con mayor población. Además, Mérida es una de las pocas ciudades que aceleraron su crecimiento respecto a la década anterior (1.9% anual), lo cual en gran parte se dio como resultado de una alta y atípica migración; pues con 80,000 nuevos residentes, Mérida es la octava ciudad del país que más personas recibió de otros estados durante el último quinquenio.\n",
    "\n",
    "En 2020, la población en Mérida fue de 995,129 habitantes (48.2% hombres y 51.8% mujeres). En comparación a 2010, la población en Mérida creció un 19.8%.\n",
    "\n",
    "Los altos índices de seguridad que presenta Mérida motivan a miles de familias de todas partes de la república a mudarse a esta ciudad cada año. Esto ha contribuido al acelerado crecimiento del sector inmobiliario, al construirse decenas de desarrollos y privadas residenciales dentro y fuera de la ciudad, con la intención de albergar a todas estas familias.\n",
    "\n",
    "De ser una entidad federativa expulsora de población, hace 30 años, ahora es receptora, lo que refleja el interés de otras partes del país y del extranjero por las ventajas que ofrece en empleos, certeza y seguridad jurídica de las inversiones, grado de escolaridad y menor percepción de inseguridad, entre otros."
   ]
  },
  {
   "cell_type": "markdown",
   "metadata": {},
   "source": [
    "## Librerías a emplear"
   ]
  },
  {
   "cell_type": "code",
   "execution_count": 2,
   "metadata": {},
   "outputs": [
    {
     "name": "stdout",
     "output_type": "stream",
     "text": [
      "Libraries imported.\n"
     ]
    }
   ],
   "source": [
    "import numpy as np # librería para manejar datos vectorizados\n",
    "\n",
    "import pandas as pd # librería para análisis de datos\n",
    "pd.set_option('display.max_columns', None)\n",
    "pd.set_option('display.max_rows', None)\n",
    "\n",
    "import json # librería para manejar archivos JSON \n",
    "\n",
    "#!conda install -c conda-forge geopy --yes # retirar el comentario de esta línea si no ha completado el laboratorio de la API de FourSquare \n",
    "from geopy.geocoders import Nominatim # convertir una dirección en valores de latitud y longitud\n",
    "\n",
    "import requests # librería para manejar solicitudes\n",
    "from pandas.io.json import json_normalize # librería para convertir un archivo json en un dataframe pandas\n",
    "\n",
    "# Matplotlib y módulos asociados para graficar\n",
    "import matplotlib.cm as cm\n",
    "import matplotlib.colors as colors\n",
    "\n",
    "# importar k-means desde la fase de agrupación\n",
    "from sklearn.cluster import KMeans\n",
    "\n",
    "#!conda install -c conda-forge folium=0.5.0 --yes # retirar el comentario de esta línea si no ha completado el laboratorio de la API de FourSquare\n",
    "import folium # librería para graficar mapas \n",
    "\n",
    "print('Libraries imported.')"
   ]
  },
  {
   "cell_type": "markdown",
   "metadata": {},
   "source": [
    "## Descripción de los datos"
   ]
  },
  {
   "cell_type": "markdown",
   "metadata": {},
   "source": [
    "Los datos que vamos a emplear para el respectivo análisis de este problema son los siguientes:\n",
    "\n"
   ]
  },
  {
   "cell_type": "markdown",
   "metadata": {},
   "source": [
    "- https://raw.githubusercontent.com/FernandoCastro29/Coursera_Capstone/main/ZipCod_lat_lon_Neigh_Merida.csv"
   ]
  },
  {
   "cell_type": "markdown",
   "metadata": {},
   "source": [
    "Dicha archivo, trae la información del código postal de las colonias que hay en Mérida, así como también las coordenadas de su latitud y longitud, que nos será de extrema utilidad cuando empleemos la API de Foursquare para revisar la información de los tipos de servicios que hay en un radio de 500 metros por cada colonia/Fraccionamiento."
   ]
  },
  {
   "cell_type": "markdown",
   "metadata": {},
   "source": [
    "Leemos el archivo csv"
   ]
  },
  {
   "cell_type": "code",
   "execution_count": 6,
   "metadata": {},
   "outputs": [],
   "source": [
    "file_name ='https://raw.githubusercontent.com/FernandoCastro29/Coursera_Capstone/main/ZipCod_lat_lon_Neigh_Merida.csv'\n",
    "Geoconder = pd.read_csv(file_name)\n",
    "Geoconder.columns = ['CP','Colonia','Latitud','Longitud']"
   ]
  },
  {
   "cell_type": "markdown",
   "metadata": {},
   "source": [
    "Procedemos a echarle un vistazo a los primeros datos que se encuentra en ella"
   ]
  },
  {
   "cell_type": "code",
   "execution_count": 7,
   "metadata": {},
   "outputs": [
    {
     "data": {
      "text/html": [
       "<div>\n",
       "<style scoped>\n",
       "    .dataframe tbody tr th:only-of-type {\n",
       "        vertical-align: middle;\n",
       "    }\n",
       "\n",
       "    .dataframe tbody tr th {\n",
       "        vertical-align: top;\n",
       "    }\n",
       "\n",
       "    .dataframe thead th {\n",
       "        text-align: right;\n",
       "    }\n",
       "</style>\n",
       "<table border=\"1\" class=\"dataframe\">\n",
       "  <thead>\n",
       "    <tr style=\"text-align: right;\">\n",
       "      <th></th>\n",
       "      <th>CP</th>\n",
       "      <th>Colonia</th>\n",
       "      <th>Latitud</th>\n",
       "      <th>Longitud</th>\n",
       "    </tr>\n",
       "  </thead>\n",
       "  <tbody>\n",
       "    <tr>\n",
       "      <th>0</th>\n",
       "      <td>97000</td>\n",
       "      <td>jardines de san sebastian</td>\n",
       "      <td>20.989200</td>\n",
       "      <td>-89.756400</td>\n",
       "    </tr>\n",
       "    <tr>\n",
       "      <th>1</th>\n",
       "      <td>97000</td>\n",
       "      <td>privada del maestro</td>\n",
       "      <td>20.982308</td>\n",
       "      <td>-89.626156</td>\n",
       "    </tr>\n",
       "    <tr>\n",
       "      <th>2</th>\n",
       "      <td>97000</td>\n",
       "      <td>merida centro</td>\n",
       "      <td>20.968927</td>\n",
       "      <td>-89.645942</td>\n",
       "    </tr>\n",
       "    <tr>\n",
       "      <th>3</th>\n",
       "      <td>97000</td>\n",
       "      <td>los cocos</td>\n",
       "      <td>20.948595</td>\n",
       "      <td>-89.630134</td>\n",
       "    </tr>\n",
       "    <tr>\n",
       "      <th>4</th>\n",
       "      <td>97000</td>\n",
       "      <td>privada garcia gineres c - 29</td>\n",
       "      <td>20.989226</td>\n",
       "      <td>-89.638116</td>\n",
       "    </tr>\n",
       "  </tbody>\n",
       "</table>\n",
       "</div>"
      ],
      "text/plain": [
       "      CP                        Colonia    Latitud   Longitud\n",
       "0  97000      jardines de san sebastian  20.989200 -89.756400\n",
       "1  97000            privada del maestro  20.982308 -89.626156\n",
       "2  97000                  merida centro  20.968927 -89.645942\n",
       "3  97000                      los cocos  20.948595 -89.630134\n",
       "4  97000  privada garcia gineres c - 29  20.989226 -89.638116"
      ]
     },
     "execution_count": 7,
     "metadata": {},
     "output_type": "execute_result"
    }
   ],
   "source": [
    "Geoconder.head()"
   ]
  },
  {
   "cell_type": "markdown",
   "metadata": {},
   "source": [
    "Como podemos observar nuestro data.frame esta constituido por 4 columnas, la primera es el código postal por cada colonia, la segunda es el nombre del Fraccionamiento o colonia, la tercera y la cuarta son los datos geoespaciales que vamos a emplear para la API Foursquare como son la Latitu y Longitud."
   ]
  },
  {
   "cell_type": "markdown",
   "metadata": {},
   "source": [
    "## Referencias\n",
    "\n",
    "- https://inmobiliare.com/la-ciudad-de-merida-y-sus-centros-comerciales-en-2021/\n",
    "- https://www.yucatan.gob.mx/saladeprensa/ver_nota.php?id=4156\n",
    "-https://datamexico.org/es/profile/geo/merida#:~:text=Acerca%20de%20M%C3%A9rida&text=En%202020%2C%20la%20poblaci%C3%B3n%20en,85%25%20respecto%20al%20a%C3%B1o%20anterior."
   ]
  },
  {
   "cell_type": "code",
   "execution_count": null,
   "metadata": {},
   "outputs": [],
   "source": []
  }
 ],
 "metadata": {
  "kernelspec": {
   "display_name": "Python 3",
   "language": "python",
   "name": "python3"
  },
  "language_info": {
   "codemirror_mode": {
    "name": "ipython",
    "version": 3
   },
   "file_extension": ".py",
   "mimetype": "text/x-python",
   "name": "python",
   "nbconvert_exporter": "python",
   "pygments_lexer": "ipython3",
   "version": "3.7.6"
  }
 },
 "nbformat": 4,
 "nbformat_minor": 4
}
